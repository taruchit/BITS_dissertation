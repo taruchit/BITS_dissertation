{
 "cells": [
  {
   "cell_type": "code",
   "execution_count": 1,
   "id": "119f2b4f-5b94-483f-aeec-0b1ee3364e88",
   "metadata": {},
   "outputs": [],
   "source": [
    "import pandas as pd"
   ]
  },
  {
   "cell_type": "code",
   "execution_count": 2,
   "id": "42993ef0-1b65-4b9a-8cde-27f6c7680667",
   "metadata": {},
   "outputs": [],
   "source": [
    "data_df=pd.read_csv(\"..//Coburg_Intruision_Detection/CIDDS-001-external-week1.csv\")"
   ]
  },
  {
   "cell_type": "code",
   "execution_count": 3,
   "id": "0102b316-7c11-46b6-bcc9-5b3a05561f26",
   "metadata": {},
   "outputs": [
    {
     "data": {
      "text/html": [
       "<div>\n",
       "<style scoped>\n",
       "    .dataframe tbody tr th:only-of-type {\n",
       "        vertical-align: middle;\n",
       "    }\n",
       "\n",
       "    .dataframe tbody tr th {\n",
       "        vertical-align: top;\n",
       "    }\n",
       "\n",
       "    .dataframe thead th {\n",
       "        text-align: right;\n",
       "    }\n",
       "</style>\n",
       "<table border=\"1\" class=\"dataframe\">\n",
       "  <thead>\n",
       "    <tr style=\"text-align: right;\">\n",
       "      <th></th>\n",
       "      <th>Date first seen</th>\n",
       "      <th>Duration</th>\n",
       "      <th>Proto</th>\n",
       "      <th>Src IP Addr</th>\n",
       "      <th>Src Pt</th>\n",
       "      <th>Dst IP Addr</th>\n",
       "      <th>Dst Pt</th>\n",
       "      <th>Packets</th>\n",
       "      <th>Bytes</th>\n",
       "      <th>Flows</th>\n",
       "      <th>Flags</th>\n",
       "      <th>Tos</th>\n",
       "      <th>class</th>\n",
       "      <th>attackType</th>\n",
       "      <th>attackID</th>\n",
       "      <th>attackDescription</th>\n",
       "    </tr>\n",
       "  </thead>\n",
       "  <tbody>\n",
       "    <tr>\n",
       "      <th>0</th>\n",
       "      <td>2017-03-14 17:43:57.172</td>\n",
       "      <td>81412.697</td>\n",
       "      <td>TCP</td>\n",
       "      <td>EXT_SERVER</td>\n",
       "      <td>8082</td>\n",
       "      <td>OPENSTACK_NET</td>\n",
       "      <td>56978.0</td>\n",
       "      <td>3057</td>\n",
       "      <td>2.1 M</td>\n",
       "      <td>1</td>\n",
       "      <td>.AP...</td>\n",
       "      <td>0</td>\n",
       "      <td>normal</td>\n",
       "      <td>---</td>\n",
       "      <td>---</td>\n",
       "      <td>---</td>\n",
       "    </tr>\n",
       "    <tr>\n",
       "      <th>1</th>\n",
       "      <td>2017-03-14 17:43:57.172</td>\n",
       "      <td>81412.697</td>\n",
       "      <td>TCP</td>\n",
       "      <td>OPENSTACK_NET</td>\n",
       "      <td>56978</td>\n",
       "      <td>EXT_SERVER</td>\n",
       "      <td>8082.0</td>\n",
       "      <td>4748</td>\n",
       "      <td>2.5 M</td>\n",
       "      <td>1</td>\n",
       "      <td>.AP...</td>\n",
       "      <td>0</td>\n",
       "      <td>normal</td>\n",
       "      <td>---</td>\n",
       "      <td>---</td>\n",
       "      <td>---</td>\n",
       "    </tr>\n",
       "    <tr>\n",
       "      <th>2</th>\n",
       "      <td>2017-03-14 17:43:26.135</td>\n",
       "      <td>81504.787</td>\n",
       "      <td>TCP</td>\n",
       "      <td>EXT_SERVER</td>\n",
       "      <td>8082</td>\n",
       "      <td>OPENSTACK_NET</td>\n",
       "      <td>56979.0</td>\n",
       "      <td>8639</td>\n",
       "      <td>9.1 M</td>\n",
       "      <td>1</td>\n",
       "      <td>.AP...</td>\n",
       "      <td>0</td>\n",
       "      <td>normal</td>\n",
       "      <td>---</td>\n",
       "      <td>---</td>\n",
       "      <td>---</td>\n",
       "    </tr>\n",
       "    <tr>\n",
       "      <th>3</th>\n",
       "      <td>2017-03-14 17:43:26.135</td>\n",
       "      <td>81504.787</td>\n",
       "      <td>TCP</td>\n",
       "      <td>OPENSTACK_NET</td>\n",
       "      <td>56979</td>\n",
       "      <td>EXT_SERVER</td>\n",
       "      <td>8082.0</td>\n",
       "      <td>12024</td>\n",
       "      <td>10.3 M</td>\n",
       "      <td>1</td>\n",
       "      <td>.AP...</td>\n",
       "      <td>0</td>\n",
       "      <td>normal</td>\n",
       "      <td>---</td>\n",
       "      <td>---</td>\n",
       "      <td>---</td>\n",
       "    </tr>\n",
       "    <tr>\n",
       "      <th>4</th>\n",
       "      <td>2017-03-14 18:17:09.005</td>\n",
       "      <td>82100.692</td>\n",
       "      <td>TCP</td>\n",
       "      <td>EXT_SERVER</td>\n",
       "      <td>8082</td>\n",
       "      <td>OPENSTACK_NET</td>\n",
       "      <td>51649.0</td>\n",
       "      <td>11012</td>\n",
       "      <td>27.2 M</td>\n",
       "      <td>1</td>\n",
       "      <td>.AP.S.</td>\n",
       "      <td>0</td>\n",
       "      <td>normal</td>\n",
       "      <td>---</td>\n",
       "      <td>---</td>\n",
       "      <td>---</td>\n",
       "    </tr>\n",
       "  </tbody>\n",
       "</table>\n",
       "</div>"
      ],
      "text/plain": [
       "           Date first seen   Duration  Proto    Src IP Addr  Src Pt  \\\n",
       "0  2017-03-14 17:43:57.172  81412.697  TCP       EXT_SERVER    8082   \n",
       "1  2017-03-14 17:43:57.172  81412.697  TCP    OPENSTACK_NET   56978   \n",
       "2  2017-03-14 17:43:26.135  81504.787  TCP       EXT_SERVER    8082   \n",
       "3  2017-03-14 17:43:26.135  81504.787  TCP    OPENSTACK_NET   56979   \n",
       "4  2017-03-14 18:17:09.005  82100.692  TCP       EXT_SERVER    8082   \n",
       "\n",
       "     Dst IP Addr   Dst Pt  Packets     Bytes  Flows   Flags  Tos   class  \\\n",
       "0  OPENSTACK_NET  56978.0     3057     2.1 M      1  .AP...    0  normal   \n",
       "1     EXT_SERVER   8082.0     4748     2.5 M      1  .AP...    0  normal   \n",
       "2  OPENSTACK_NET  56979.0     8639     9.1 M      1  .AP...    0  normal   \n",
       "3     EXT_SERVER   8082.0    12024    10.3 M      1  .AP...    0  normal   \n",
       "4  OPENSTACK_NET  51649.0    11012    27.2 M      1  .AP.S.    0  normal   \n",
       "\n",
       "  attackType attackID attackDescription  \n",
       "0        ---      ---               ---  \n",
       "1        ---      ---               ---  \n",
       "2        ---      ---               ---  \n",
       "3        ---      ---               ---  \n",
       "4        ---      ---               ---  "
      ]
     },
     "execution_count": 3,
     "metadata": {},
     "output_type": "execute_result"
    }
   ],
   "source": [
    "data_df.head()"
   ]
  },
  {
   "cell_type": "code",
   "execution_count": 4,
   "id": "a79cbea4-cfa4-4129-ba52-d6e5a71e45ca",
   "metadata": {},
   "outputs": [
    {
     "data": {
      "text/html": [
       "<div>\n",
       "<style scoped>\n",
       "    .dataframe tbody tr th:only-of-type {\n",
       "        vertical-align: middle;\n",
       "    }\n",
       "\n",
       "    .dataframe tbody tr th {\n",
       "        vertical-align: top;\n",
       "    }\n",
       "\n",
       "    .dataframe thead th {\n",
       "        text-align: right;\n",
       "    }\n",
       "</style>\n",
       "<table border=\"1\" class=\"dataframe\">\n",
       "  <thead>\n",
       "    <tr style=\"text-align: right;\">\n",
       "      <th></th>\n",
       "      <th>Date first seen</th>\n",
       "      <th>Duration</th>\n",
       "      <th>Proto</th>\n",
       "      <th>Src IP Addr</th>\n",
       "      <th>Src Pt</th>\n",
       "      <th>Dst IP Addr</th>\n",
       "      <th>Dst Pt</th>\n",
       "      <th>Packets</th>\n",
       "      <th>Bytes</th>\n",
       "      <th>Flows</th>\n",
       "      <th>Flags</th>\n",
       "      <th>Tos</th>\n",
       "      <th>class</th>\n",
       "      <th>attackType</th>\n",
       "      <th>attackID</th>\n",
       "      <th>attackDescription</th>\n",
       "    </tr>\n",
       "  </thead>\n",
       "  <tbody>\n",
       "    <tr>\n",
       "      <th>172833</th>\n",
       "      <td>2017-03-16 11:42:01.298</td>\n",
       "      <td>518988.907</td>\n",
       "      <td>TCP</td>\n",
       "      <td>OPENSTACK_NET</td>\n",
       "      <td>49939</td>\n",
       "      <td>EXT_SERVER</td>\n",
       "      <td>8082.0</td>\n",
       "      <td>17446</td>\n",
       "      <td>10.6 M</td>\n",
       "      <td>1</td>\n",
       "      <td>.APRS.</td>\n",
       "      <td>0</td>\n",
       "      <td>normal</td>\n",
       "      <td>---</td>\n",
       "      <td>---</td>\n",
       "      <td>---</td>\n",
       "    </tr>\n",
       "    <tr>\n",
       "      <th>172834</th>\n",
       "      <td>2017-03-16 12:10:17.340</td>\n",
       "      <td>517292.865</td>\n",
       "      <td>TCP</td>\n",
       "      <td>EXT_SERVER</td>\n",
       "      <td>8082</td>\n",
       "      <td>OPENSTACK_NET</td>\n",
       "      <td>58749.0</td>\n",
       "      <td>9406</td>\n",
       "      <td>3.4 M</td>\n",
       "      <td>1</td>\n",
       "      <td>.AP.S.</td>\n",
       "      <td>0</td>\n",
       "      <td>normal</td>\n",
       "      <td>---</td>\n",
       "      <td>---</td>\n",
       "      <td>---</td>\n",
       "    </tr>\n",
       "    <tr>\n",
       "      <th>172835</th>\n",
       "      <td>2017-03-16 12:10:17.340</td>\n",
       "      <td>517292.865</td>\n",
       "      <td>TCP</td>\n",
       "      <td>OPENSTACK_NET</td>\n",
       "      <td>58749</td>\n",
       "      <td>EXT_SERVER</td>\n",
       "      <td>8082.0</td>\n",
       "      <td>15510</td>\n",
       "      <td>10.3 M</td>\n",
       "      <td>1</td>\n",
       "      <td>.APRS.</td>\n",
       "      <td>0</td>\n",
       "      <td>normal</td>\n",
       "      <td>---</td>\n",
       "      <td>---</td>\n",
       "      <td>---</td>\n",
       "    </tr>\n",
       "    <tr>\n",
       "      <th>172836</th>\n",
       "      <td>2017-03-16 15:52:58.342</td>\n",
       "      <td>503931.863</td>\n",
       "      <td>TCP</td>\n",
       "      <td>EXT_SERVER</td>\n",
       "      <td>8082</td>\n",
       "      <td>OPENSTACK_NET</td>\n",
       "      <td>62605.0</td>\n",
       "      <td>13362</td>\n",
       "      <td>5.2 M</td>\n",
       "      <td>1</td>\n",
       "      <td>.AP.S.</td>\n",
       "      <td>0</td>\n",
       "      <td>normal</td>\n",
       "      <td>---</td>\n",
       "      <td>---</td>\n",
       "      <td>---</td>\n",
       "    </tr>\n",
       "    <tr>\n",
       "      <th>172837</th>\n",
       "      <td>2017-03-16 15:52:58.342</td>\n",
       "      <td>503931.863</td>\n",
       "      <td>TCP</td>\n",
       "      <td>OPENSTACK_NET</td>\n",
       "      <td>62605</td>\n",
       "      <td>EXT_SERVER</td>\n",
       "      <td>8082.0</td>\n",
       "      <td>20262</td>\n",
       "      <td>17.8 M</td>\n",
       "      <td>1</td>\n",
       "      <td>.APRS.</td>\n",
       "      <td>0</td>\n",
       "      <td>normal</td>\n",
       "      <td>---</td>\n",
       "      <td>---</td>\n",
       "      <td>---</td>\n",
       "    </tr>\n",
       "  </tbody>\n",
       "</table>\n",
       "</div>"
      ],
      "text/plain": [
       "                Date first seen    Duration  Proto    Src IP Addr  Src Pt  \\\n",
       "172833  2017-03-16 11:42:01.298  518988.907  TCP    OPENSTACK_NET   49939   \n",
       "172834  2017-03-16 12:10:17.340  517292.865  TCP       EXT_SERVER    8082   \n",
       "172835  2017-03-16 12:10:17.340  517292.865  TCP    OPENSTACK_NET   58749   \n",
       "172836  2017-03-16 15:52:58.342  503931.863  TCP       EXT_SERVER    8082   \n",
       "172837  2017-03-16 15:52:58.342  503931.863  TCP    OPENSTACK_NET   62605   \n",
       "\n",
       "          Dst IP Addr   Dst Pt  Packets     Bytes  Flows   Flags  Tos   class  \\\n",
       "172833     EXT_SERVER   8082.0    17446    10.6 M      1  .APRS.    0  normal   \n",
       "172834  OPENSTACK_NET  58749.0     9406     3.4 M      1  .AP.S.    0  normal   \n",
       "172835     EXT_SERVER   8082.0    15510    10.3 M      1  .APRS.    0  normal   \n",
       "172836  OPENSTACK_NET  62605.0    13362     5.2 M      1  .AP.S.    0  normal   \n",
       "172837     EXT_SERVER   8082.0    20262    17.8 M      1  .APRS.    0  normal   \n",
       "\n",
       "       attackType attackID attackDescription  \n",
       "172833        ---      ---               ---  \n",
       "172834        ---      ---               ---  \n",
       "172835        ---      ---               ---  \n",
       "172836        ---      ---               ---  \n",
       "172837        ---      ---               ---  "
      ]
     },
     "execution_count": 4,
     "metadata": {},
     "output_type": "execute_result"
    }
   ],
   "source": [
    "data_df.tail()"
   ]
  },
  {
   "cell_type": "code",
   "execution_count": 5,
   "id": "57432267-4bd6-4760-bd0d-4769ff411159",
   "metadata": {},
   "outputs": [
    {
     "data": {
      "text/plain": [
       "(172838, 16)"
      ]
     },
     "execution_count": 5,
     "metadata": {},
     "output_type": "execute_result"
    }
   ],
   "source": [
    "data_df.shape"
   ]
  },
  {
   "cell_type": "code",
   "execution_count": 6,
   "id": "372a1160-40ce-4764-9dca-df1cbb17af29",
   "metadata": {},
   "outputs": [
    {
     "name": "stdout",
     "output_type": "stream",
     "text": [
      "<class 'pandas.core.frame.DataFrame'>\n",
      "RangeIndex: 172838 entries, 0 to 172837\n",
      "Data columns (total 16 columns):\n",
      " #   Column             Non-Null Count   Dtype  \n",
      "---  ------             --------------   -----  \n",
      " 0   Date first seen    172838 non-null  object \n",
      " 1   Duration           172838 non-null  float64\n",
      " 2   Proto              172838 non-null  object \n",
      " 3   Src IP Addr        172838 non-null  object \n",
      " 4   Src Pt             172838 non-null  int64  \n",
      " 5   Dst IP Addr        172838 non-null  object \n",
      " 6   Dst Pt             172838 non-null  float64\n",
      " 7   Packets            172838 non-null  int64  \n",
      " 8   Bytes              172838 non-null  object \n",
      " 9   Flows              172838 non-null  int64  \n",
      " 10  Flags              172838 non-null  object \n",
      " 11  Tos                172838 non-null  int64  \n",
      " 12  class              172838 non-null  object \n",
      " 13  attackType         172838 non-null  object \n",
      " 14  attackID           172838 non-null  object \n",
      " 15  attackDescription  172838 non-null  object \n",
      "dtypes: float64(2), int64(4), object(10)\n",
      "memory usage: 21.1+ MB\n"
     ]
    }
   ],
   "source": [
    "data_df.info()"
   ]
  },
  {
   "cell_type": "code",
   "execution_count": 7,
   "id": "57e5f119-0a60-41ec-83a9-45eb5916420b",
   "metadata": {},
   "outputs": [
    {
     "data": {
      "text/html": [
       "<div>\n",
       "<style scoped>\n",
       "    .dataframe tbody tr th:only-of-type {\n",
       "        vertical-align: middle;\n",
       "    }\n",
       "\n",
       "    .dataframe tbody tr th {\n",
       "        vertical-align: top;\n",
       "    }\n",
       "\n",
       "    .dataframe thead th {\n",
       "        text-align: right;\n",
       "    }\n",
       "</style>\n",
       "<table border=\"1\" class=\"dataframe\">\n",
       "  <thead>\n",
       "    <tr style=\"text-align: right;\">\n",
       "      <th></th>\n",
       "      <th>Date first seen</th>\n",
       "      <th>Duration</th>\n",
       "      <th>Proto</th>\n",
       "      <th>Src IP Addr</th>\n",
       "      <th>Src Pt</th>\n",
       "      <th>Dst IP Addr</th>\n",
       "      <th>Dst Pt</th>\n",
       "      <th>Packets</th>\n",
       "      <th>Bytes</th>\n",
       "      <th>Flows</th>\n",
       "      <th>Flags</th>\n",
       "      <th>Tos</th>\n",
       "      <th>class</th>\n",
       "      <th>attackType</th>\n",
       "      <th>attackID</th>\n",
       "      <th>attackDescription</th>\n",
       "    </tr>\n",
       "  </thead>\n",
       "  <tbody>\n",
       "  </tbody>\n",
       "</table>\n",
       "</div>"
      ],
      "text/plain": [
       "Empty DataFrame\n",
       "Columns: [Date first seen, Duration, Proto, Src IP Addr, Src Pt, Dst IP Addr, Dst Pt, Packets, Bytes, Flows, Flags, Tos, class, attackType, attackID, attackDescription]\n",
       "Index: []"
      ]
     },
     "execution_count": 7,
     "metadata": {},
     "output_type": "execute_result"
    }
   ],
   "source": [
    "data_df[data_df.duplicated()]"
   ]
  },
  {
   "cell_type": "code",
   "execution_count": 8,
   "id": "898715ba-632f-4ad4-8a40-8e7360c09d4d",
   "metadata": {},
   "outputs": [
    {
     "data": {
      "text/plain": [
       "Date first seen      0\n",
       "Duration             0\n",
       "Proto                0\n",
       "Src IP Addr          0\n",
       "Src Pt               0\n",
       "Dst IP Addr          0\n",
       "Dst Pt               0\n",
       "Packets              0\n",
       "Bytes                0\n",
       "Flows                0\n",
       "Flags                0\n",
       "Tos                  0\n",
       "class                0\n",
       "attackType           0\n",
       "attackID             0\n",
       "attackDescription    0\n",
       "dtype: int64"
      ]
     },
     "execution_count": 8,
     "metadata": {},
     "output_type": "execute_result"
    }
   ],
   "source": [
    "data_df.isna().sum()"
   ]
  },
  {
   "cell_type": "code",
   "execution_count": 9,
   "id": "f30f3115-9acb-4be0-8487-3157eba1a4fc",
   "metadata": {},
   "outputs": [
    {
     "data": {
      "text/plain": [
       "array(['---'], dtype=object)"
      ]
     },
     "execution_count": 9,
     "metadata": {},
     "output_type": "execute_result"
    }
   ],
   "source": [
    "data_df['attackType'].unique()"
   ]
  },
  {
   "cell_type": "code",
   "execution_count": 10,
   "id": "d3307b38-9a04-46b6-bd41-9e1bf8d812d9",
   "metadata": {},
   "outputs": [
    {
     "data": {
      "text/plain": [
       "array(['---'], dtype=object)"
      ]
     },
     "execution_count": 10,
     "metadata": {},
     "output_type": "execute_result"
    }
   ],
   "source": [
    "data_df['attackDescription'].unique()"
   ]
  },
  {
   "cell_type": "code",
   "execution_count": 11,
   "id": "1e250975-ab02-4958-8c04-554eb99328b4",
   "metadata": {},
   "outputs": [
    {
     "data": {
      "text/plain": [
       "array(['normal', 'suspicious', 'unknown'], dtype=object)"
      ]
     },
     "execution_count": 11,
     "metadata": {},
     "output_type": "execute_result"
    }
   ],
   "source": [
    "data_df['class'].unique()"
   ]
  },
  {
   "cell_type": "markdown",
   "id": "b3437570-d4b7-4e56-a22c-58957e09ceaf",
   "metadata": {},
   "source": [
    "Observations from dataset: -\n",
    "\n",
    "1. The dataset has 1,72,838 rows and 16 columns.\n",
    "2. There are no null values in the dataset.\n",
    "3. The numerical fields are raw and not normalized.\n",
    "4. There are no duplicate records in the dataset.\n",
    "5. The target feature: class, has three types of values: normal, suspicious, unknown."
   ]
  },
  {
   "cell_type": "code",
   "execution_count": null,
   "id": "475fcd1d-8d20-4e8b-8e00-3787a4403b7b",
   "metadata": {},
   "outputs": [],
   "source": []
  }
 ],
 "metadata": {
  "kernelspec": {
   "display_name": "Python 3 (ipykernel)",
   "language": "python",
   "name": "python3"
  },
  "language_info": {
   "codemirror_mode": {
    "name": "ipython",
    "version": 3
   },
   "file_extension": ".py",
   "mimetype": "text/x-python",
   "name": "python",
   "nbconvert_exporter": "python",
   "pygments_lexer": "ipython3",
   "version": "3.9.2"
  }
 },
 "nbformat": 4,
 "nbformat_minor": 5
}
