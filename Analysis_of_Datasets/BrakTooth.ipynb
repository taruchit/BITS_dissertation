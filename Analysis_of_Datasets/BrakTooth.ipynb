{
 "cells": [
  {
   "cell_type": "code",
   "execution_count": 1,
   "id": "2fe2a871-df8c-4ef9-bc0f-9ae98b3d030f",
   "metadata": {},
   "outputs": [],
   "source": [
    "import pandas as pd"
   ]
  },
  {
   "cell_type": "code",
   "execution_count": 2,
   "id": "93514e45-297c-4c81-8458-7a105cae3915",
   "metadata": {},
   "outputs": [],
   "source": [
    "braktooth_df=pd.read_excel(\"..//BrakTooth/Dataset.xlsx\")"
   ]
  },
  {
   "cell_type": "code",
   "execution_count": 3,
   "id": "20ec1e13-4a43-4403-8d34-4b17efea394c",
   "metadata": {},
   "outputs": [
    {
     "data": {
      "text/html": [
       "<div>\n",
       "<style scoped>\n",
       "    .dataframe tbody tr th:only-of-type {\n",
       "        vertical-align: middle;\n",
       "    }\n",
       "\n",
       "    .dataframe tbody tr th {\n",
       "        vertical-align: top;\n",
       "    }\n",
       "\n",
       "    .dataframe thead th {\n",
       "        text-align: right;\n",
       "    }\n",
       "</style>\n",
       "<table border=\"1\" class=\"dataframe\">\n",
       "  <thead>\n",
       "    <tr style=\"text-align: right;\">\n",
       "      <th></th>\n",
       "      <th>Protocol</th>\n",
       "      <th>Info</th>\n",
       "      <th>Length</th>\n",
       "      <th>Delta</th>\n",
       "      <th>Type</th>\n",
       "    </tr>\n",
       "  </thead>\n",
       "  <tbody>\n",
       "    <tr>\n",
       "      <th>0</th>\n",
       "      <td>HCI_EVT</td>\n",
       "      <td>Rcvd Link Key Request</td>\n",
       "      <td>9</td>\n",
       "      <td>0.010473</td>\n",
       "      <td>au_rand_flooding</td>\n",
       "    </tr>\n",
       "    <tr>\n",
       "      <th>1</th>\n",
       "      <td>HCI_CMD</td>\n",
       "      <td>Sent Link Key Request Negative Reply</td>\n",
       "      <td>10</td>\n",
       "      <td>0.010473</td>\n",
       "      <td>au_rand_flooding</td>\n",
       "    </tr>\n",
       "    <tr>\n",
       "      <th>2</th>\n",
       "      <td>HCI_EVT</td>\n",
       "      <td>Rcvd Link Key Request</td>\n",
       "      <td>9</td>\n",
       "      <td>0.017913</td>\n",
       "      <td>au_rand_flooding</td>\n",
       "    </tr>\n",
       "    <tr>\n",
       "      <th>3</th>\n",
       "      <td>HCI_EVT</td>\n",
       "      <td>Rcvd Command Complete (Link Key Request Negati...</td>\n",
       "      <td>13</td>\n",
       "      <td>0.002642</td>\n",
       "      <td>au_rand_flooding</td>\n",
       "    </tr>\n",
       "    <tr>\n",
       "      <th>4</th>\n",
       "      <td>HCI_CMD</td>\n",
       "      <td>Sent Link Key Request Negative Reply</td>\n",
       "      <td>10</td>\n",
       "      <td>0.002882</td>\n",
       "      <td>au_rand_flooding</td>\n",
       "    </tr>\n",
       "  </tbody>\n",
       "</table>\n",
       "</div>"
      ],
      "text/plain": [
       "  Protocol                                               Info  Length  \\\n",
       "0  HCI_EVT                              Rcvd Link Key Request       9   \n",
       "1  HCI_CMD               Sent Link Key Request Negative Reply      10   \n",
       "2  HCI_EVT                              Rcvd Link Key Request       9   \n",
       "3  HCI_EVT  Rcvd Command Complete (Link Key Request Negati...      13   \n",
       "4  HCI_CMD               Sent Link Key Request Negative Reply      10   \n",
       "\n",
       "      Delta              Type  \n",
       "0  0.010473  au_rand_flooding  \n",
       "1  0.010473  au_rand_flooding  \n",
       "2  0.017913  au_rand_flooding  \n",
       "3  0.002642  au_rand_flooding  \n",
       "4  0.002882  au_rand_flooding  "
      ]
     },
     "execution_count": 3,
     "metadata": {},
     "output_type": "execute_result"
    }
   ],
   "source": [
    "braktooth_df.head()"
   ]
  },
  {
   "cell_type": "code",
   "execution_count": 4,
   "id": "b5856e79-07e4-48c4-a103-bd6abb57aba2",
   "metadata": {},
   "outputs": [
    {
     "data": {
      "text/html": [
       "<div>\n",
       "<style scoped>\n",
       "    .dataframe tbody tr th:only-of-type {\n",
       "        vertical-align: middle;\n",
       "    }\n",
       "\n",
       "    .dataframe tbody tr th {\n",
       "        vertical-align: top;\n",
       "    }\n",
       "\n",
       "    .dataframe thead th {\n",
       "        text-align: right;\n",
       "    }\n",
       "</style>\n",
       "<table border=\"1\" class=\"dataframe\">\n",
       "  <thead>\n",
       "    <tr style=\"text-align: right;\">\n",
       "      <th></th>\n",
       "      <th>Protocol</th>\n",
       "      <th>Info</th>\n",
       "      <th>Length</th>\n",
       "      <th>Delta</th>\n",
       "      <th>Type</th>\n",
       "    </tr>\n",
       "  </thead>\n",
       "  <tbody>\n",
       "    <tr>\n",
       "      <th>8997</th>\n",
       "      <td>RFCOMM</td>\n",
       "      <td>Sent UIH Channel=12 UID</td>\n",
       "      <td>14</td>\n",
       "      <td>0.006531</td>\n",
       "      <td>normal</td>\n",
       "    </tr>\n",
       "    <tr>\n",
       "      <th>8998</th>\n",
       "      <td>HCI_EVT</td>\n",
       "      <td>Rcvd Number of Completed Packets</td>\n",
       "      <td>8</td>\n",
       "      <td>0.004969</td>\n",
       "      <td>normal</td>\n",
       "    </tr>\n",
       "    <tr>\n",
       "      <th>8999</th>\n",
       "      <td>OBEX</td>\n",
       "      <td>Sent Continue</td>\n",
       "      <td>21</td>\n",
       "      <td>0.014489</td>\n",
       "      <td>normal</td>\n",
       "    </tr>\n",
       "    <tr>\n",
       "      <th>9000</th>\n",
       "      <td>LMP</td>\n",
       "      <td>LMP_power_control_req</td>\n",
       "      <td>64</td>\n",
       "      <td>0.003510</td>\n",
       "      <td>normal</td>\n",
       "    </tr>\n",
       "    <tr>\n",
       "      <th>9001</th>\n",
       "      <td>LMP</td>\n",
       "      <td>LMP_power_control_res</td>\n",
       "      <td>64</td>\n",
       "      <td>0.001288</td>\n",
       "      <td>normal</td>\n",
       "    </tr>\n",
       "  </tbody>\n",
       "</table>\n",
       "</div>"
      ],
      "text/plain": [
       "     Protocol                              Info  Length     Delta    Type\n",
       "8997   RFCOMM          Sent UIH Channel=12 UID       14  0.006531  normal\n",
       "8998  HCI_EVT  Rcvd Number of Completed Packets       8  0.004969  normal\n",
       "8999     OBEX                     Sent Continue      21  0.014489  normal\n",
       "9000      LMP             LMP_power_control_req      64  0.003510  normal\n",
       "9001      LMP             LMP_power_control_res      64  0.001288  normal"
      ]
     },
     "execution_count": 4,
     "metadata": {},
     "output_type": "execute_result"
    }
   ],
   "source": [
    "braktooth_df.tail()"
   ]
  },
  {
   "cell_type": "code",
   "execution_count": 5,
   "id": "b5f44121-d34f-4ade-9420-c14c42274798",
   "metadata": {},
   "outputs": [
    {
     "data": {
      "text/plain": [
       "(9002, 5)"
      ]
     },
     "execution_count": 5,
     "metadata": {},
     "output_type": "execute_result"
    }
   ],
   "source": [
    "braktooth_df.shape"
   ]
  },
  {
   "cell_type": "code",
   "execution_count": 6,
   "id": "b1a9d109-0317-43e1-9ba7-340905e54572",
   "metadata": {},
   "outputs": [
    {
     "name": "stdout",
     "output_type": "stream",
     "text": [
      "<class 'pandas.core.frame.DataFrame'>\n",
      "RangeIndex: 9002 entries, 0 to 9001\n",
      "Data columns (total 5 columns):\n",
      " #   Column    Non-Null Count  Dtype  \n",
      "---  ------    --------------  -----  \n",
      " 0   Protocol  9002 non-null   object \n",
      " 1   Info      9002 non-null   object \n",
      " 2   Length    9002 non-null   int64  \n",
      " 3   Delta     9002 non-null   float64\n",
      " 4   Type      9002 non-null   object \n",
      "dtypes: float64(1), int64(1), object(3)\n",
      "memory usage: 351.8+ KB\n"
     ]
    }
   ],
   "source": [
    "braktooth_df.info()"
   ]
  },
  {
   "cell_type": "code",
   "execution_count": 7,
   "id": "ce90a305-df6d-430c-91ee-d97e2058745b",
   "metadata": {},
   "outputs": [
    {
     "data": {
      "text/plain": [
       "array(['au_rand_flooding', 'duplicated_encapsulated_payload',\n",
       "       'duplicated_iocap', 'truncated_sco_link_request',\n",
       "       'feature_response_flooding', 'invalid_feature_page_execution',\n",
       "       'lmp_auto_rate_overflow', 'lmp_overflow_dm1',\n",
       "       'truncated_lmp_accepted', 'invalid_setup_complete',\n",
       "       'invalid_timing_accuracy', 'normal'], dtype=object)"
      ]
     },
     "execution_count": 7,
     "metadata": {},
     "output_type": "execute_result"
    }
   ],
   "source": [
    "braktooth_df['Type'].unique()"
   ]
  },
  {
   "cell_type": "code",
   "execution_count": 8,
   "id": "db9b90ff-82a0-4837-a8aa-336fcb48dffd",
   "metadata": {},
   "outputs": [
    {
     "data": {
      "text/html": [
       "<div>\n",
       "<style scoped>\n",
       "    .dataframe tbody tr th:only-of-type {\n",
       "        vertical-align: middle;\n",
       "    }\n",
       "\n",
       "    .dataframe tbody tr th {\n",
       "        vertical-align: top;\n",
       "    }\n",
       "\n",
       "    .dataframe thead th {\n",
       "        text-align: right;\n",
       "    }\n",
       "</style>\n",
       "<table border=\"1\" class=\"dataframe\">\n",
       "  <thead>\n",
       "    <tr style=\"text-align: right;\">\n",
       "      <th></th>\n",
       "      <th>Protocol</th>\n",
       "      <th>Info</th>\n",
       "      <th>Length</th>\n",
       "      <th>Delta</th>\n",
       "      <th>Type</th>\n",
       "    </tr>\n",
       "  </thead>\n",
       "  <tbody>\n",
       "    <tr>\n",
       "      <th>78</th>\n",
       "      <td>HCI_EVT</td>\n",
       "      <td>Rcvd Link Key Request</td>\n",
       "      <td>9</td>\n",
       "      <td>0.001042</td>\n",
       "      <td>au_rand_flooding</td>\n",
       "    </tr>\n",
       "    <tr>\n",
       "      <th>84</th>\n",
       "      <td>HCI_EVT</td>\n",
       "      <td>Rcvd Link Key Request</td>\n",
       "      <td>9</td>\n",
       "      <td>0.000538</td>\n",
       "      <td>au_rand_flooding</td>\n",
       "    </tr>\n",
       "    <tr>\n",
       "      <th>95</th>\n",
       "      <td>HCI_EVT</td>\n",
       "      <td>Rcvd Link Key Request</td>\n",
       "      <td>9</td>\n",
       "      <td>0.000571</td>\n",
       "      <td>au_rand_flooding</td>\n",
       "    </tr>\n",
       "    <tr>\n",
       "      <th>96</th>\n",
       "      <td>HCI_EVT</td>\n",
       "      <td>Rcvd Link Key Request</td>\n",
       "      <td>9</td>\n",
       "      <td>0.000577</td>\n",
       "      <td>au_rand_flooding</td>\n",
       "    </tr>\n",
       "    <tr>\n",
       "      <th>102</th>\n",
       "      <td>HCI_EVT</td>\n",
       "      <td>Rcvd Link Key Request</td>\n",
       "      <td>9</td>\n",
       "      <td>0.000565</td>\n",
       "      <td>au_rand_flooding</td>\n",
       "    </tr>\n",
       "    <tr>\n",
       "      <th>...</th>\n",
       "      <td>...</td>\n",
       "      <td>...</td>\n",
       "      <td>...</td>\n",
       "      <td>...</td>\n",
       "      <td>...</td>\n",
       "    </tr>\n",
       "    <tr>\n",
       "      <th>8985</th>\n",
       "      <td>OBEX</td>\n",
       "      <td>Rcvd OBEX fragment</td>\n",
       "      <td>1004</td>\n",
       "      <td>0.001877</td>\n",
       "      <td>normal</td>\n",
       "    </tr>\n",
       "    <tr>\n",
       "      <th>8988</th>\n",
       "      <td>OBEX</td>\n",
       "      <td>Rcvd OBEX fragment</td>\n",
       "      <td>1004</td>\n",
       "      <td>0.002029</td>\n",
       "      <td>normal</td>\n",
       "    </tr>\n",
       "    <tr>\n",
       "      <th>8992</th>\n",
       "      <td>OBEX</td>\n",
       "      <td>Rcvd OBEX fragment</td>\n",
       "      <td>1004</td>\n",
       "      <td>0.007267</td>\n",
       "      <td>normal</td>\n",
       "    </tr>\n",
       "    <tr>\n",
       "      <th>8993</th>\n",
       "      <td>OBEX</td>\n",
       "      <td>Rcvd OBEX fragment</td>\n",
       "      <td>1004</td>\n",
       "      <td>0.001653</td>\n",
       "      <td>normal</td>\n",
       "    </tr>\n",
       "    <tr>\n",
       "      <th>8994</th>\n",
       "      <td>OBEX</td>\n",
       "      <td>Rcvd OBEX fragment</td>\n",
       "      <td>1004</td>\n",
       "      <td>0.001159</td>\n",
       "      <td>normal</td>\n",
       "    </tr>\n",
       "  </tbody>\n",
       "</table>\n",
       "<p>1909 rows × 5 columns</p>\n",
       "</div>"
      ],
      "text/plain": [
       "     Protocol                   Info  Length     Delta              Type\n",
       "78    HCI_EVT  Rcvd Link Key Request       9  0.001042  au_rand_flooding\n",
       "84    HCI_EVT  Rcvd Link Key Request       9  0.000538  au_rand_flooding\n",
       "95    HCI_EVT  Rcvd Link Key Request       9  0.000571  au_rand_flooding\n",
       "96    HCI_EVT  Rcvd Link Key Request       9  0.000577  au_rand_flooding\n",
       "102   HCI_EVT  Rcvd Link Key Request       9  0.000565  au_rand_flooding\n",
       "...       ...                    ...     ...       ...               ...\n",
       "8985     OBEX     Rcvd OBEX fragment    1004  0.001877            normal\n",
       "8988     OBEX     Rcvd OBEX fragment    1004  0.002029            normal\n",
       "8992     OBEX     Rcvd OBEX fragment    1004  0.007267            normal\n",
       "8993     OBEX     Rcvd OBEX fragment    1004  0.001653            normal\n",
       "8994     OBEX     Rcvd OBEX fragment    1004  0.001159            normal\n",
       "\n",
       "[1909 rows x 5 columns]"
      ]
     },
     "execution_count": 8,
     "metadata": {},
     "output_type": "execute_result"
    }
   ],
   "source": [
    "braktooth_df[braktooth_df.duplicated()]"
   ]
  },
  {
   "cell_type": "markdown",
   "id": "38328a87-a0c0-4599-822b-c48250a883eb",
   "metadata": {},
   "source": [
    "Observations from the dataset: -\n",
    "1. The dataset has 9002 rows and 5 columns.\n",
    "2. The target feature is : Type, having 12 unique values.\n",
    "3. There are no null values in the dataset.\n",
    "4. There are 1909 duplicate records in the dataset. Thus, we have 21.20% records as duplicates in the dataset."
   ]
  },
  {
   "cell_type": "code",
   "execution_count": null,
   "id": "39b45d66-24c5-4837-ba13-f7efc8b69714",
   "metadata": {},
   "outputs": [],
   "source": []
  }
 ],
 "metadata": {
  "kernelspec": {
   "display_name": "Python 3 (ipykernel)",
   "language": "python",
   "name": "python3"
  },
  "language_info": {
   "codemirror_mode": {
    "name": "ipython",
    "version": 3
   },
   "file_extension": ".py",
   "mimetype": "text/x-python",
   "name": "python",
   "nbconvert_exporter": "python",
   "pygments_lexer": "ipython3",
   "version": "3.9.2"
  }
 },
 "nbformat": 4,
 "nbformat_minor": 5
}
